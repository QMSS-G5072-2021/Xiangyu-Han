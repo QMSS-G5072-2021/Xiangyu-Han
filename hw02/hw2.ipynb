{
 "cells": [
  {
   "cell_type": "code",
   "execution_count": 1,
   "metadata": {},
   "outputs": [],
   "source": [
    "import pandas as pd \n",
    "import numpy as np"
   ]
  },
  {
   "cell_type": "code",
   "execution_count": 2,
   "metadata": {
    "scrolled": true
   },
   "outputs": [
    {
     "name": "stderr",
     "output_type": "stream",
     "text": [
      "/Users/humphreyhan/Library/Caches/pypoetry/virtualenvs/mds-G2ZMO4Sf-py3.9/lib/python3.9/site-packages/IPython/core/interactiveshell.py:3169: DtypeWarning: Columns (10) have mixed types.Specify dtype option on import or set low_memory=False.\n",
      "  has_raised = await self.run_ast_nodes(code_ast.body, cell_name,\n"
     ]
    }
   ],
   "source": [
    "df = pd.read_csv('U.S._Chronic_Disease_Indicators__CDI_.csv')"
   ]
  },
  {
   "cell_type": "markdown",
   "metadata": {},
   "source": [
    "## Selection of Data and Reshaping the Data"
   ]
  },
  {
   "cell_type": "markdown",
   "metadata": {},
   "source": [
    "### Question 1\n",
    "Remove all columns you do not need for the analysis (All done in Python, of course. No Excel acrobatics.). We are interested in two sets of variables. Select the following variables and remove all others:\n",
    "a) Binge Drinking: Binge drinking prevalence among adults aged >= 18 years, Crude Prevalence in Percent. We would like to obtain this variable for the overall population, as well separately for females and males.\n",
    "b) Poverty: Poverty, Crude Prevalence in Percent. We only want the overall poverty prevalence to make things a bit easier."
   ]
  },
  {
   "cell_type": "code",
   "execution_count": 3,
   "metadata": {
    "scrolled": true
   },
   "outputs": [
    {
     "data": {
      "text/plain": [
       "array(['Average Annual Number', 'Number', 'Crude Prevalence',\n",
       "       'Age-adjusted Prevalence', 'Mean', 'Age-adjusted Mean', 'Yes/No',\n",
       "       'Percent', 'US Dollars', 'Per capita alcohol consumption',\n",
       "       'Prevalence', 'Age-adjusted Rate', 'Crude Rate',\n",
       "       'Average Annual Crude Rate', 'Average Annual Age-adjusted Rate',\n",
       "       'Adjusted by age, sex, race and ethnicity', 'Median',\n",
       "       'Local control of the regulation of alcohol outlet density',\n",
       "       'Commercial host (dram shop) liability status for alcohol service'],\n",
       "      dtype=object)"
      ]
     },
     "execution_count": 3,
     "metadata": {},
     "output_type": "execute_result"
    }
   ],
   "source": [
    "df['DataValueType'].unique()"
   ]
  },
  {
   "cell_type": "code",
   "execution_count": 4,
   "metadata": {},
   "outputs": [],
   "source": [
    "# select two sets of variables\n",
    "df1 = df[df['DataValueType']=='Crude Prevalence']\n",
    "df1 = df1[\n",
    "    ((df1['Question'] == 'Poverty') & (df1['Stratification1'] == 'Overall'))|\n",
    "    ((df1['Question'] == 'Binge drinking prevalence among adults aged >= 18 years') & (df1['Stratification1'] == 'Overall'))|\n",
    "    ((df1['Question'] == 'Binge drinking prevalence among adults aged >= 18 years') & (df1['Stratification1'] == 'Female'))|\n",
    "    ((df1['Question'] == 'Binge drinking prevalence among adults aged >= 18 years') & (df1['Stratification1'] == 'Male'))]"
   ]
  },
  {
   "cell_type": "code",
   "execution_count": 5,
   "metadata": {},
   "outputs": [
    {
     "name": "stdout",
     "output_type": "stream",
     "text": [
      "<class 'pandas.core.frame.DataFrame'>\n",
      "Int64Index: 1962 entries, 340 to 432614\n",
      "Data columns (total 6 columns):\n",
      " #   Column           Non-Null Count  Dtype \n",
      "---  ------           --------------  ----- \n",
      " 0   YearEnd          1962 non-null   int64 \n",
      " 1   LocationAbbr     1962 non-null   object\n",
      " 2   LocationDesc     1962 non-null   object\n",
      " 3   Question         1962 non-null   object\n",
      " 4   DataValue        1935 non-null   object\n",
      " 5   Stratification1  1962 non-null   object\n",
      "dtypes: int64(1), object(5)\n",
      "memory usage: 107.3+ KB\n"
     ]
    }
   ],
   "source": [
    "#remove unrelated columns\n",
    "df1 = df1.iloc[:,[0,1,2,3,6,10,17]]\n",
    "# test whether YearStart always equals YearEnd\n",
    "# when they are equal, reserve only one\n",
    "if df1['YearStart'].equals(df1['YearEnd']): \n",
    "    df1 = df1.iloc[:,1:]\n",
    "df1.info()"
   ]
  },
  {
   "cell_type": "code",
   "execution_count": 6,
   "metadata": {},
   "outputs": [
    {
     "data": {
      "text/html": [
       "<div>\n",
       "<style scoped>\n",
       "    .dataframe tbody tr th:only-of-type {\n",
       "        vertical-align: middle;\n",
       "    }\n",
       "\n",
       "    .dataframe tbody tr th {\n",
       "        vertical-align: top;\n",
       "    }\n",
       "\n",
       "    .dataframe thead th {\n",
       "        text-align: right;\n",
       "    }\n",
       "</style>\n",
       "<table border=\"1\" class=\"dataframe\">\n",
       "  <thead>\n",
       "    <tr style=\"text-align: right;\">\n",
       "      <th></th>\n",
       "      <th>YearEnd</th>\n",
       "      <th>LocationAbbr</th>\n",
       "      <th>LocationDesc</th>\n",
       "      <th>Question</th>\n",
       "      <th>DataValue</th>\n",
       "      <th>Stratification1</th>\n",
       "    </tr>\n",
       "  </thead>\n",
       "  <tbody>\n",
       "    <tr>\n",
       "      <th>340</th>\n",
       "      <td>2015</td>\n",
       "      <td>AL</td>\n",
       "      <td>Alabama</td>\n",
       "      <td>Poverty</td>\n",
       "      <td>18.5</td>\n",
       "      <td>Overall</td>\n",
       "    </tr>\n",
       "    <tr>\n",
       "      <th>369</th>\n",
       "      <td>2014</td>\n",
       "      <td>TX</td>\n",
       "      <td>Texas</td>\n",
       "      <td>Poverty</td>\n",
       "      <td>17.2</td>\n",
       "      <td>Overall</td>\n",
       "    </tr>\n",
       "    <tr>\n",
       "      <th>379</th>\n",
       "      <td>2011</td>\n",
       "      <td>NM</td>\n",
       "      <td>New Mexico</td>\n",
       "      <td>Poverty</td>\n",
       "      <td>21.5</td>\n",
       "      <td>Overall</td>\n",
       "    </tr>\n",
       "    <tr>\n",
       "      <th>473</th>\n",
       "      <td>2011</td>\n",
       "      <td>WY</td>\n",
       "      <td>Wyoming</td>\n",
       "      <td>Poverty</td>\n",
       "      <td>11.3</td>\n",
       "      <td>Overall</td>\n",
       "    </tr>\n",
       "    <tr>\n",
       "      <th>489</th>\n",
       "      <td>2011</td>\n",
       "      <td>ND</td>\n",
       "      <td>North Dakota</td>\n",
       "      <td>Poverty</td>\n",
       "      <td>12.2</td>\n",
       "      <td>Overall</td>\n",
       "    </tr>\n",
       "  </tbody>\n",
       "</table>\n",
       "</div>"
      ],
      "text/plain": [
       "     YearEnd LocationAbbr  LocationDesc Question DataValue Stratification1\n",
       "340     2015           AL       Alabama  Poverty      18.5         Overall\n",
       "369     2014           TX         Texas  Poverty      17.2         Overall\n",
       "379     2011           NM    New Mexico  Poverty      21.5         Overall\n",
       "473     2011           WY       Wyoming  Poverty      11.3         Overall\n",
       "489     2011           ND  North Dakota  Poverty      12.2         Overall"
      ]
     },
     "execution_count": 6,
     "metadata": {},
     "output_type": "execute_result"
    }
   ],
   "source": [
    "df1.head()"
   ]
  },
  {
   "cell_type": "code",
   "execution_count": 157,
   "metadata": {},
   "outputs": [
    {
     "data": {
      "text/html": [
       "<div>\n",
       "<style scoped>\n",
       "    .dataframe tbody tr th:only-of-type {\n",
       "        vertical-align: middle;\n",
       "    }\n",
       "\n",
       "    .dataframe tbody tr th {\n",
       "        vertical-align: top;\n",
       "    }\n",
       "\n",
       "    .dataframe thead th {\n",
       "        text-align: right;\n",
       "    }\n",
       "</style>\n",
       "<table border=\"1\" class=\"dataframe\">\n",
       "  <thead>\n",
       "    <tr style=\"text-align: right;\">\n",
       "      <th></th>\n",
       "      <th>YearEnd</th>\n",
       "      <th>LocationAbbr</th>\n",
       "      <th>LocationDesc</th>\n",
       "      <th>Question</th>\n",
       "      <th>DataValue</th>\n",
       "      <th>Stratification1</th>\n",
       "    </tr>\n",
       "  </thead>\n",
       "  <tbody>\n",
       "    <tr>\n",
       "      <th>401499</th>\n",
       "      <td>2019</td>\n",
       "      <td>IN</td>\n",
       "      <td>Indiana</td>\n",
       "      <td>Binge drinking prevalence among adults aged &gt;=...</td>\n",
       "      <td>11</td>\n",
       "      <td>Female</td>\n",
       "    </tr>\n",
       "    <tr>\n",
       "      <th>405264</th>\n",
       "      <td>2019</td>\n",
       "      <td>IA</td>\n",
       "      <td>Iowa</td>\n",
       "      <td>Binge drinking prevalence among adults aged &gt;=...</td>\n",
       "      <td>27</td>\n",
       "      <td>Male</td>\n",
       "    </tr>\n",
       "    <tr>\n",
       "      <th>405595</th>\n",
       "      <td>2019</td>\n",
       "      <td>IA</td>\n",
       "      <td>Iowa</td>\n",
       "      <td>Binge drinking prevalence among adults aged &gt;=...</td>\n",
       "      <td>21.6</td>\n",
       "      <td>Overall</td>\n",
       "    </tr>\n",
       "    <tr>\n",
       "      <th>405678</th>\n",
       "      <td>2019</td>\n",
       "      <td>ID</td>\n",
       "      <td>Idaho</td>\n",
       "      <td>Binge drinking prevalence among adults aged &gt;=...</td>\n",
       "      <td>16.6</td>\n",
       "      <td>Overall</td>\n",
       "    </tr>\n",
       "    <tr>\n",
       "      <th>405892</th>\n",
       "      <td>2019</td>\n",
       "      <td>AL</td>\n",
       "      <td>Alabama</td>\n",
       "      <td>Binge drinking prevalence among adults aged &gt;=...</td>\n",
       "      <td>8.9</td>\n",
       "      <td>Female</td>\n",
       "    </tr>\n",
       "    <tr>\n",
       "      <th>...</th>\n",
       "      <td>...</td>\n",
       "      <td>...</td>\n",
       "      <td>...</td>\n",
       "      <td>...</td>\n",
       "      <td>...</td>\n",
       "      <td>...</td>\n",
       "    </tr>\n",
       "    <tr>\n",
       "      <th>432280</th>\n",
       "      <td>2019</td>\n",
       "      <td>NC</td>\n",
       "      <td>North Carolina</td>\n",
       "      <td>Binge drinking prevalence among adults aged &gt;=...</td>\n",
       "      <td>13.5</td>\n",
       "      <td>Overall</td>\n",
       "    </tr>\n",
       "    <tr>\n",
       "      <th>432364</th>\n",
       "      <td>2019</td>\n",
       "      <td>OR</td>\n",
       "      <td>Oregon</td>\n",
       "      <td>Binge drinking prevalence among adults aged &gt;=...</td>\n",
       "      <td>13.1</td>\n",
       "      <td>Female</td>\n",
       "    </tr>\n",
       "    <tr>\n",
       "      <th>432447</th>\n",
       "      <td>2019</td>\n",
       "      <td>VI</td>\n",
       "      <td>Virgin Islands</td>\n",
       "      <td>Binge drinking prevalence among adults aged &gt;=...</td>\n",
       "      <td>NaN</td>\n",
       "      <td>Overall</td>\n",
       "    </tr>\n",
       "    <tr>\n",
       "      <th>432609</th>\n",
       "      <td>2019</td>\n",
       "      <td>PA</td>\n",
       "      <td>Pennsylvania</td>\n",
       "      <td>Binge drinking prevalence among adults aged &gt;=...</td>\n",
       "      <td>21.5</td>\n",
       "      <td>Male</td>\n",
       "    </tr>\n",
       "    <tr>\n",
       "      <th>432614</th>\n",
       "      <td>2019</td>\n",
       "      <td>NY</td>\n",
       "      <td>New York</td>\n",
       "      <td>Binge drinking prevalence among adults aged &gt;=...</td>\n",
       "      <td>16.7</td>\n",
       "      <td>Overall</td>\n",
       "    </tr>\n",
       "  </tbody>\n",
       "</table>\n",
       "<p>165 rows × 6 columns</p>\n",
       "</div>"
      ],
      "text/plain": [
       "        YearEnd LocationAbbr    LocationDesc  \\\n",
       "401499     2019           IN         Indiana   \n",
       "405264     2019           IA            Iowa   \n",
       "405595     2019           IA            Iowa   \n",
       "405678     2019           ID           Idaho   \n",
       "405892     2019           AL         Alabama   \n",
       "...         ...          ...             ...   \n",
       "432280     2019           NC  North Carolina   \n",
       "432364     2019           OR          Oregon   \n",
       "432447     2019           VI  Virgin Islands   \n",
       "432609     2019           PA    Pennsylvania   \n",
       "432614     2019           NY        New York   \n",
       "\n",
       "                                                 Question DataValue  \\\n",
       "401499  Binge drinking prevalence among adults aged >=...        11   \n",
       "405264  Binge drinking prevalence among adults aged >=...        27   \n",
       "405595  Binge drinking prevalence among adults aged >=...      21.6   \n",
       "405678  Binge drinking prevalence among adults aged >=...      16.6   \n",
       "405892  Binge drinking prevalence among adults aged >=...       8.9   \n",
       "...                                                   ...       ...   \n",
       "432280  Binge drinking prevalence among adults aged >=...      13.5   \n",
       "432364  Binge drinking prevalence among adults aged >=...      13.1   \n",
       "432447  Binge drinking prevalence among adults aged >=...       NaN   \n",
       "432609  Binge drinking prevalence among adults aged >=...      21.5   \n",
       "432614  Binge drinking prevalence among adults aged >=...      16.7   \n",
       "\n",
       "       Stratification1  \n",
       "401499          Female  \n",
       "405264            Male  \n",
       "405595         Overall  \n",
       "405678         Overall  \n",
       "405892          Female  \n",
       "...                ...  \n",
       "432280         Overall  \n",
       "432364          Female  \n",
       "432447         Overall  \n",
       "432609            Male  \n",
       "432614         Overall  \n",
       "\n",
       "[165 rows x 6 columns]"
      ]
     },
     "execution_count": 157,
     "metadata": {},
     "output_type": "execute_result"
    }
   ],
   "source": [
    "df1[(df1['YearEnd']==2019) & (df1['Question'] == 'Binge drinking prevalence among adults aged >= 18 years')]"
   ]
  },
  {
   "cell_type": "markdown",
   "metadata": {},
   "source": [
    "### Question 2\n",
    "Convert the dataset to a wide format data set using the commands from the pandas package."
   ]
  },
  {
   "cell_type": "code",
   "execution_count": 206,
   "metadata": {
    "scrolled": true
   },
   "outputs": [],
   "source": [
    "df_wide = df1.pivot(index = ['LocationDesc','LocationAbbr','YearEnd'],columns=['Question','Stratification1'], values='DataValue')"
   ]
  },
  {
   "cell_type": "markdown",
   "metadata": {},
   "source": [
    "### Question 3\n",
    "Rename the variables to follow the format below.\n",
    "Your dataset should now be in a wide state-year format with the following variables:\n",
    "\n",
    "state: Name of the State\n",
    "stateabb: State Abbreviation\n",
    "year: year of observation\n",
    "binge_all: Binge drinking prevalence among all adults aged >= 18 years\n",
    "binge_male: Binge drinking prevalence among male adults aged >= 18 years\n",
    "binge_female: Binge drinking prevalence among female adults aged >= 18 years\n",
    "poverty: Poverty, Crude Prevalence in Percent\n",
    "Provide an overview of the dataset by printing its size (using the shape command) and some summary statistics (using the describe command).\n",
    "\n",
    "Save the cleaned dataset as binge_clean.csv. That file should be included in the uploaded files for your homework submission.\n",
    "\n"
   ]
  },
  {
   "cell_type": "code",
   "execution_count": 158,
   "metadata": {},
   "outputs": [],
   "source": [
    "binge_clean = df_wide.reset_index()\n",
    "binge_clean.columns = ['state','stateabb','year','poverty','binge_male','binge_female','binge_all']"
   ]
  },
  {
   "cell_type": "code",
   "execution_count": 159,
   "metadata": {},
   "outputs": [
    {
     "data": {
      "text/plain": [
       "(548, 7)"
      ]
     },
     "execution_count": 159,
     "metadata": {},
     "output_type": "execute_result"
    }
   ],
   "source": [
    "binge_clean.shape"
   ]
  },
  {
   "cell_type": "code",
   "execution_count": 161,
   "metadata": {},
   "outputs": [
    {
     "data": {
      "text/html": [
       "<div>\n",
       "<style scoped>\n",
       "    .dataframe tbody tr th:only-of-type {\n",
       "        vertical-align: middle;\n",
       "    }\n",
       "\n",
       "    .dataframe tbody tr th {\n",
       "        vertical-align: top;\n",
       "    }\n",
       "\n",
       "    .dataframe thead th {\n",
       "        text-align: right;\n",
       "    }\n",
       "</style>\n",
       "<table border=\"1\" class=\"dataframe\">\n",
       "  <thead>\n",
       "    <tr style=\"text-align: right;\">\n",
       "      <th></th>\n",
       "      <th>year</th>\n",
       "      <th>poverty</th>\n",
       "      <th>binge_male</th>\n",
       "      <th>binge_female</th>\n",
       "      <th>binge_all</th>\n",
       "    </tr>\n",
       "  </thead>\n",
       "  <tbody>\n",
       "    <tr>\n",
       "      <th>count</th>\n",
       "      <td>548.000000</td>\n",
       "      <td>477.000000</td>\n",
       "      <td>486.000000</td>\n",
       "      <td>486.000000</td>\n",
       "      <td>486.000000</td>\n",
       "    </tr>\n",
       "    <tr>\n",
       "      <th>mean</th>\n",
       "      <td>2014.516423</td>\n",
       "      <td>14.935220</td>\n",
       "      <td>11.761111</td>\n",
       "      <td>22.474280</td>\n",
       "      <td>16.968313</td>\n",
       "    </tr>\n",
       "    <tr>\n",
       "      <th>std</th>\n",
       "      <td>2.867218</td>\n",
       "      <td>5.227848</td>\n",
       "      <td>2.838002</td>\n",
       "      <td>3.729218</td>\n",
       "      <td>3.116518</td>\n",
       "    </tr>\n",
       "    <tr>\n",
       "      <th>min</th>\n",
       "      <td>2010.000000</td>\n",
       "      <td>7.300000</td>\n",
       "      <td>5.000000</td>\n",
       "      <td>13.100000</td>\n",
       "      <td>9.600000</td>\n",
       "    </tr>\n",
       "    <tr>\n",
       "      <th>25%</th>\n",
       "      <td>2012.000000</td>\n",
       "      <td>11.800000</td>\n",
       "      <td>9.900000</td>\n",
       "      <td>20.200000</td>\n",
       "      <td>15.100000</td>\n",
       "    </tr>\n",
       "    <tr>\n",
       "      <th>50%</th>\n",
       "      <td>2015.000000</td>\n",
       "      <td>14.000000</td>\n",
       "      <td>11.800000</td>\n",
       "      <td>22.100000</td>\n",
       "      <td>16.800000</td>\n",
       "    </tr>\n",
       "    <tr>\n",
       "      <th>75%</th>\n",
       "      <td>2017.000000</td>\n",
       "      <td>16.900000</td>\n",
       "      <td>13.200000</td>\n",
       "      <td>24.300000</td>\n",
       "      <td>18.700000</td>\n",
       "    </tr>\n",
       "    <tr>\n",
       "      <th>max</th>\n",
       "      <td>2019.000000</td>\n",
       "      <td>46.200000</td>\n",
       "      <td>22.300000</td>\n",
       "      <td>33.800000</td>\n",
       "      <td>27.200000</td>\n",
       "    </tr>\n",
       "  </tbody>\n",
       "</table>\n",
       "</div>"
      ],
      "text/plain": [
       "              year     poverty  binge_male  binge_female   binge_all\n",
       "count   548.000000  477.000000  486.000000    486.000000  486.000000\n",
       "mean   2014.516423   14.935220   11.761111     22.474280   16.968313\n",
       "std       2.867218    5.227848    2.838002      3.729218    3.116518\n",
       "min    2010.000000    7.300000    5.000000     13.100000    9.600000\n",
       "25%    2012.000000   11.800000    9.900000     20.200000   15.100000\n",
       "50%    2015.000000   14.000000   11.800000     22.100000   16.800000\n",
       "75%    2017.000000   16.900000   13.200000     24.300000   18.700000\n",
       "max    2019.000000   46.200000   22.300000     33.800000   27.200000"
      ]
     },
     "execution_count": 161,
     "metadata": {},
     "output_type": "execute_result"
    }
   ],
   "source": [
    "#change datatype of binge and poverty\n",
    "binge_clean[['binge_all','binge_male','binge_female','poverty']] = binge_clean[['binge_all','binge_male','binge_female','poverty']].apply(pd.to_numeric)\n",
    "binge_clean.describe()"
   ]
  },
  {
   "cell_type": "code",
   "execution_count": 162,
   "metadata": {},
   "outputs": [],
   "source": [
    "binge_clean.to_csv('Data/binge_clean.csv',index = False)"
   ]
  },
  {
   "cell_type": "markdown",
   "metadata": {},
   "source": [
    "### Question 4\n",
    "Produce a table \n",
    "that shows the overall, female, and male binge drinking prevalences across U.S. States \n",
    "in the most recent year of data \n",
    "for the Top 10 binge drinking states (i.e. the ones with the highest prevalence in the overall population). \n",
    "\n",
    "Use the relevant pandas commands to select the right variables, sort the data, and filter the data frame."
   ]
  },
  {
   "cell_type": "code",
   "execution_count": 163,
   "metadata": {
    "scrolled": true
   },
   "outputs": [],
   "source": [
    "#select the most recent year\n",
    "binge_2019 = binge_clean.loc[binge_clean.groupby('state')['year'].idxmax()]\n",
    "#fill missing data\n",
    "binge_2019['binge_all'] = binge_2019['binge_all'].fillna(-1)"
   ]
  },
  {
   "cell_type": "code",
   "execution_count": 164,
   "metadata": {},
   "outputs": [
    {
     "data": {
      "text/html": [
       "<div>\n",
       "<style scoped>\n",
       "    .dataframe tbody tr th:only-of-type {\n",
       "        vertical-align: middle;\n",
       "    }\n",
       "\n",
       "    .dataframe tbody tr th {\n",
       "        vertical-align: top;\n",
       "    }\n",
       "\n",
       "    .dataframe thead th {\n",
       "        text-align: right;\n",
       "    }\n",
       "</style>\n",
       "<table border=\"1\" class=\"dataframe\">\n",
       "  <thead>\n",
       "    <tr style=\"text-align: right;\">\n",
       "      <th></th>\n",
       "      <th>state</th>\n",
       "      <th>stateabb</th>\n",
       "      <th>year</th>\n",
       "      <th>poverty</th>\n",
       "      <th>binge_male</th>\n",
       "      <th>binge_female</th>\n",
       "      <th>binge_all</th>\n",
       "    </tr>\n",
       "  </thead>\n",
       "  <tbody>\n",
       "    <tr>\n",
       "      <th>89</th>\n",
       "      <td>District of Columbia</td>\n",
       "      <td>DC</td>\n",
       "      <td>2019</td>\n",
       "      <td>NaN</td>\n",
       "      <td>22.3</td>\n",
       "      <td>27.8</td>\n",
       "      <td>24.9</td>\n",
       "    </tr>\n",
       "    <tr>\n",
       "      <th>358</th>\n",
       "      <td>North Dakota</td>\n",
       "      <td>ND</td>\n",
       "      <td>2019</td>\n",
       "      <td>NaN</td>\n",
       "      <td>14.9</td>\n",
       "      <td>29.2</td>\n",
       "      <td>22.2</td>\n",
       "    </tr>\n",
       "    <tr>\n",
       "      <th>537</th>\n",
       "      <td>Wisconsin</td>\n",
       "      <td>WI</td>\n",
       "      <td>2019</td>\n",
       "      <td>NaN</td>\n",
       "      <td>16.5</td>\n",
       "      <td>27.7</td>\n",
       "      <td>21.9</td>\n",
       "    </tr>\n",
       "    <tr>\n",
       "      <th>168</th>\n",
       "      <td>Iowa</td>\n",
       "      <td>IA</td>\n",
       "      <td>2019</td>\n",
       "      <td>NaN</td>\n",
       "      <td>16.5</td>\n",
       "      <td>27.0</td>\n",
       "      <td>21.6</td>\n",
       "    </tr>\n",
       "    <tr>\n",
       "      <th>438</th>\n",
       "      <td>South Dakota</td>\n",
       "      <td>SD</td>\n",
       "      <td>2019</td>\n",
       "      <td>NaN</td>\n",
       "      <td>16.1</td>\n",
       "      <td>26.4</td>\n",
       "      <td>21.2</td>\n",
       "    </tr>\n",
       "    <tr>\n",
       "      <th>288</th>\n",
       "      <td>Nebraska</td>\n",
       "      <td>NE</td>\n",
       "      <td>2019</td>\n",
       "      <td>NaN</td>\n",
       "      <td>15.7</td>\n",
       "      <td>26.1</td>\n",
       "      <td>20.9</td>\n",
       "    </tr>\n",
       "    <tr>\n",
       "      <th>248</th>\n",
       "      <td>Minnesota</td>\n",
       "      <td>MN</td>\n",
       "      <td>2019</td>\n",
       "      <td>NaN</td>\n",
       "      <td>16.3</td>\n",
       "      <td>25.3</td>\n",
       "      <td>20.7</td>\n",
       "    </tr>\n",
       "    <tr>\n",
       "      <th>278</th>\n",
       "      <td>Montana</td>\n",
       "      <td>MT</td>\n",
       "      <td>2019</td>\n",
       "      <td>NaN</td>\n",
       "      <td>14.7</td>\n",
       "      <td>26.7</td>\n",
       "      <td>20.7</td>\n",
       "    </tr>\n",
       "    <tr>\n",
       "      <th>148</th>\n",
       "      <td>Illinois</td>\n",
       "      <td>IL</td>\n",
       "      <td>2019</td>\n",
       "      <td>NaN</td>\n",
       "      <td>14.4</td>\n",
       "      <td>25.8</td>\n",
       "      <td>19.9</td>\n",
       "    </tr>\n",
       "    <tr>\n",
       "      <th>228</th>\n",
       "      <td>Massachusetts</td>\n",
       "      <td>MA</td>\n",
       "      <td>2019</td>\n",
       "      <td>NaN</td>\n",
       "      <td>15.4</td>\n",
       "      <td>23.2</td>\n",
       "      <td>19.1</td>\n",
       "    </tr>\n",
       "  </tbody>\n",
       "</table>\n",
       "</div>"
      ],
      "text/plain": [
       "                    state stateabb  year  poverty  binge_male  binge_female  \\\n",
       "89   District of Columbia       DC  2019      NaN        22.3          27.8   \n",
       "358          North Dakota       ND  2019      NaN        14.9          29.2   \n",
       "537             Wisconsin       WI  2019      NaN        16.5          27.7   \n",
       "168                  Iowa       IA  2019      NaN        16.5          27.0   \n",
       "438          South Dakota       SD  2019      NaN        16.1          26.4   \n",
       "288              Nebraska       NE  2019      NaN        15.7          26.1   \n",
       "248             Minnesota       MN  2019      NaN        16.3          25.3   \n",
       "278               Montana       MT  2019      NaN        14.7          26.7   \n",
       "148              Illinois       IL  2019      NaN        14.4          25.8   \n",
       "228         Massachusetts       MA  2019      NaN        15.4          23.2   \n",
       "\n",
       "     binge_all  \n",
       "89        24.9  \n",
       "358       22.2  \n",
       "537       21.9  \n",
       "168       21.6  \n",
       "438       21.2  \n",
       "288       20.9  \n",
       "248       20.7  \n",
       "278       20.7  \n",
       "148       19.9  \n",
       "228       19.1  "
      ]
     },
     "execution_count": 164,
     "metadata": {},
     "output_type": "execute_result"
    }
   ],
   "source": [
    "#select the top ten\n",
    "binge_top = binge_2019.sort_values('binge_all',ascending=False).head(10)\n",
    "binge_top"
   ]
  },
  {
   "cell_type": "markdown",
   "metadata": {},
   "source": [
    "### Question 5\n",
    "Calculate the average annual growth rates (in percent) of overall binge drinking across states for the years the data is available. One way to get these growth rates, is to group the data by state (groupby) and use the first() and last() commands to get the first and last non-NA percentage followed by dividing the calculated percentage increase by the number of years data is available for. Alternatively, you could use the pct_change function to help you out. Provide a table of the 5 states with the largest increases and the 5 states with the largest decreases in binge drinking prevalence over the time period.\n",
    "\n"
   ]
  },
  {
   "cell_type": "code",
   "execution_count": 192,
   "metadata": {
    "scrolled": true
   },
   "outputs": [
    {
     "name": "stdout",
     "output_type": "stream",
     "text": [
      "<class 'pandas.core.frame.DataFrame'>\n",
      "RangeIndex: 548 entries, 0 to 547\n",
      "Data columns (total 3 columns):\n",
      " #   Column     Non-Null Count  Dtype  \n",
      "---  ------     --------------  -----  \n",
      " 0   state      548 non-null    object \n",
      " 1   year       548 non-null    int64  \n",
      " 2   binge_all  486 non-null    float64\n",
      "dtypes: float64(1), int64(1), object(1)\n",
      "memory usage: 13.0+ KB\n"
     ]
    }
   ],
   "source": [
    "#slice related columns\n",
    "binge_change = binge_clean[['state','year','binge_all']]\n",
    "binge_change.info()"
   ]
  },
  {
   "cell_type": "code",
   "execution_count": 193,
   "metadata": {},
   "outputs": [
    {
     "name": "stderr",
     "output_type": "stream",
     "text": [
      "<ipython-input-193-5fd0fd06e6ea>:1: SettingWithCopyWarning: \n",
      "A value is trying to be set on a copy of a slice from a DataFrame.\n",
      "Try using .loc[row_indexer,col_indexer] = value instead\n",
      "\n",
      "See the caveats in the documentation: https://pandas.pydata.org/pandas-docs/stable/user_guide/indexing.html#returning-a-view-versus-a-copy\n",
      "  binge_change['change'] = binge_change['binge_all'].pct_change()\n"
     ]
    }
   ],
   "source": [
    "#mutate a new column which gives the perecentage of change every year\n",
    "binge_change['change'] = binge_change['binge_all'].pct_change()"
   ]
  },
  {
   "cell_type": "code",
   "execution_count": 200,
   "metadata": {
    "scrolled": true
   },
   "outputs": [],
   "source": [
    "#create a dataframe which gives the average change per year\n",
    "aveChange = pd.DataFrame(binge_change.groupby('state')['change'].mean().reset_index(name = 'ave_change'))"
   ]
  },
  {
   "cell_type": "code",
   "execution_count": 204,
   "metadata": {},
   "outputs": [
    {
     "data": {
      "text/html": [
       "<div>\n",
       "<style scoped>\n",
       "    .dataframe tbody tr th:only-of-type {\n",
       "        vertical-align: middle;\n",
       "    }\n",
       "\n",
       "    .dataframe tbody tr th {\n",
       "        vertical-align: top;\n",
       "    }\n",
       "\n",
       "    .dataframe thead th {\n",
       "        text-align: right;\n",
       "    }\n",
       "</style>\n",
       "<table border=\"1\" class=\"dataframe\">\n",
       "  <thead>\n",
       "    <tr style=\"text-align: right;\">\n",
       "      <th></th>\n",
       "      <th>state</th>\n",
       "      <th>ave_change</th>\n",
       "    </tr>\n",
       "  </thead>\n",
       "  <tbody>\n",
       "    <tr>\n",
       "      <th>53</th>\n",
       "      <td>Wisconsin</td>\n",
       "      <td>0.087362</td>\n",
       "    </tr>\n",
       "    <tr>\n",
       "      <th>35</th>\n",
       "      <td>North Dakota</td>\n",
       "      <td>0.069755</td>\n",
       "    </tr>\n",
       "    <tr>\n",
       "      <th>48</th>\n",
       "      <td>Vermont</td>\n",
       "      <td>0.066150</td>\n",
       "    </tr>\n",
       "    <tr>\n",
       "      <th>1</th>\n",
       "      <td>Alaska</td>\n",
       "      <td>0.047275</td>\n",
       "    </tr>\n",
       "    <tr>\n",
       "      <th>8</th>\n",
       "      <td>District of Columbia</td>\n",
       "      <td>0.046596</td>\n",
       "    </tr>\n",
       "  </tbody>\n",
       "</table>\n",
       "</div>"
      ],
      "text/plain": [
       "                   state  ave_change\n",
       "53             Wisconsin    0.087362\n",
       "35          North Dakota    0.069755\n",
       "48               Vermont    0.066150\n",
       "1                 Alaska    0.047275\n",
       "8   District of Columbia    0.046596"
      ]
     },
     "execution_count": 204,
     "metadata": {},
     "output_type": "execute_result"
    }
   ],
   "source": [
    "FiveLargestIncrease = aveChange.sort_values('ave_change',ascending = False).head(5)\n",
    "FiveLargestIncrease"
   ]
  },
  {
   "cell_type": "code",
   "execution_count": 205,
   "metadata": {},
   "outputs": [
    {
     "data": {
      "text/html": [
       "<div>\n",
       "<style scoped>\n",
       "    .dataframe tbody tr th:only-of-type {\n",
       "        vertical-align: middle;\n",
       "    }\n",
       "\n",
       "    .dataframe tbody tr th {\n",
       "        vertical-align: top;\n",
       "    }\n",
       "\n",
       "    .dataframe thead th {\n",
       "        text-align: right;\n",
       "    }\n",
       "</style>\n",
       "<table border=\"1\" class=\"dataframe\">\n",
       "  <thead>\n",
       "    <tr style=\"text-align: right;\">\n",
       "      <th></th>\n",
       "      <th>state</th>\n",
       "      <th>ave_change</th>\n",
       "    </tr>\n",
       "  </thead>\n",
       "  <tbody>\n",
       "    <tr>\n",
       "      <th>9</th>\n",
       "      <td>Florida</td>\n",
       "      <td>-0.038721</td>\n",
       "    </tr>\n",
       "    <tr>\n",
       "      <th>25</th>\n",
       "      <td>Mississippi</td>\n",
       "      <td>-0.035410</td>\n",
       "    </tr>\n",
       "    <tr>\n",
       "      <th>47</th>\n",
       "      <td>Utah</td>\n",
       "      <td>-0.033386</td>\n",
       "    </tr>\n",
       "    <tr>\n",
       "      <th>37</th>\n",
       "      <td>Oklahoma</td>\n",
       "      <td>-0.028773</td>\n",
       "    </tr>\n",
       "    <tr>\n",
       "      <th>40</th>\n",
       "      <td>Puerto Rico</td>\n",
       "      <td>-0.023219</td>\n",
       "    </tr>\n",
       "  </tbody>\n",
       "</table>\n",
       "</div>"
      ],
      "text/plain": [
       "          state  ave_change\n",
       "9       Florida   -0.038721\n",
       "25  Mississippi   -0.035410\n",
       "47         Utah   -0.033386\n",
       "37     Oklahoma   -0.028773\n",
       "40  Puerto Rico   -0.023219"
      ]
     },
     "execution_count": 205,
     "metadata": {},
     "output_type": "execute_result"
    }
   ],
   "source": [
    "FiveLargestDecrease = aveChange.sort_values('ave_change').head(5)\n",
    "FiveLargestDecrease"
   ]
  }
 ],
 "metadata": {
  "kernelspec": {
   "display_name": "Python 3",
   "language": "python",
   "name": "python3"
  },
  "language_info": {
   "codemirror_mode": {
    "name": "ipython",
    "version": 3
   },
   "file_extension": ".py",
   "mimetype": "text/x-python",
   "name": "python",
   "nbconvert_exporter": "python",
   "pygments_lexer": "ipython3",
   "version": "3.9.0"
  }
 },
 "nbformat": 4,
 "nbformat_minor": 4
}
