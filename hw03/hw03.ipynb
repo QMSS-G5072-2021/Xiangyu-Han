{
 "cells": [
  {
   "cell_type": "markdown",
   "id": "db02c290",
   "metadata": {},
   "source": [
    "## 1. Cost of the event"
   ]
  },
  {
   "cell_type": "markdown",
   "id": "bd7d0b16",
   "metadata": {},
   "source": [
    "#### a) Provide a python function called cost_of_event that takes as parameters:"
   ]
  },
  {
   "cell_type": "code",
   "execution_count": 91,
   "id": "1ab12901",
   "metadata": {},
   "outputs": [],
   "source": [
    "def cost_of_event(num_of_people, type = 'private', cost = 50.0):\n",
    "    if type == 'wedding':\n",
    "        return num_of_people*cost*1.5\n",
    "    if type == 'corporate' or type == 'private':\n",
    "        return num_of_people*cost\n",
    "    else:\n",
    "        return "
   ]
  },
  {
   "cell_type": "code",
   "execution_count": 92,
   "id": "a42d9cbb",
   "metadata": {},
   "outputs": [
    {
     "data": {
      "text/plain": [
       "101250.0"
      ]
     },
     "execution_count": 92,
     "metadata": {},
     "output_type": "execute_result"
    }
   ],
   "source": [
    "#Show the function output for a wedding with 150 people at a cost of $450 per person.\n",
    "cost_of_event(150,'wedding',450)"
   ]
  },
  {
   "cell_type": "markdown",
   "id": "edf79d54",
   "metadata": {},
   "source": [
    "#### b) We now want to provide information on the applicable sales tax as well."
   ]
  },
  {
   "cell_type": "code",
   "execution_count": 93,
   "id": "653db6ca",
   "metadata": {},
   "outputs": [],
   "source": [
    "# takes in the value of an event and returns the total amount of sales\n",
    "# tax. Make sure this function has a tax_rate parameter and set the\n",
    "# default to 10 percent.\n",
    "def sales_tax (net_cost,type = 'private', tax_rate=0.1):\n",
    "    if type == 'wedding' or type == 'private': \n",
    "        if net_cost <= 1000:\n",
    "            tax_rate = 0\n",
    "        return (net_cost - 1000)*tax_rate\n",
    "    if  type == 'corporate':\n",
    "        return net_cost*tax_rate\n",
    "    else:\n",
    "        return"
   ]
  },
  {
   "cell_type": "code",
   "execution_count": 94,
   "id": "aae6b30e",
   "metadata": {},
   "outputs": [
    {
     "name": "stdout",
     "output_type": "stream",
     "text": [
      "400.0\n"
     ]
    }
   ],
   "source": [
    "#Print the result of your function for a private event costing $5000.\n",
    "print(sales_tax(5000,'private',0.1))"
   ]
  },
  {
   "cell_type": "code",
   "execution_count": 95,
   "id": "7c03c649",
   "metadata": {},
   "outputs": [
    {
     "name": "stdout",
     "output_type": "stream",
     "text": [
      "500.0\n"
     ]
    }
   ],
   "source": [
    "#Print the result of your function for a corporate event costing $5000.\n",
    "print(sales_tax(5000,'corporate',0.1))"
   ]
  },
  {
   "cell_type": "markdown",
   "id": "4ab77f8e",
   "metadata": {},
   "source": [
    "#### c) Now combine the functions cost_of_event and sales_tax into a third function called event_calculator."
   ]
  },
  {
   "cell_type": "code",
   "execution_count": 96,
   "id": "5c119a24",
   "metadata": {},
   "outputs": [],
   "source": [
    "def event_calculator(num_of_people, type = 'private', cost = 50.0, tax_rate=0.1):\n",
    "    def cost_of_event(num_of_people, type = 'private', cost = 50.0):\n",
    "        if type == 'wedding':\n",
    "            return num_of_people*cost*1.5\n",
    "        if type == 'corporate' or type == 'private':\n",
    "            return num_of_people*cost\n",
    "        else:\n",
    "            return \n",
    "    def sales_tax (net_cost,type = 'private', tax_rate=0.1):\n",
    "        if type == 'wedding' or type == 'private': \n",
    "            if net_cost <= 1000:\n",
    "                tax_rate = 0\n",
    "            return (net_cost - 1000)*tax_rate\n",
    "        if  type == 'corporate':\n",
    "            return net_cost*tax_rate\n",
    "        else:\n",
    "            return\n",
    "    print(f\"Total number of guest: {num_of_people}\")\n",
    "    print(f\"Type of event: {type}\")\n",
    "    print(f\"Cost per person: {cost}\")\n",
    "    print('--------------------------------')\n",
    "    print(f\"Cost of event: {cost_of_event(num_of_people,type,cost)}\")\n",
    "    net_cost = cost_of_event(num_of_people,type,cost)\n",
    "    print(f\"Sales tax: {sales_tax(net_cost,type, tax_rate)}\")\n",
    "    tax = sales_tax(net_cost,type, tax_rate)\n",
    "    print('--------------------------------')\n",
    "    total_cost = tax+net_cost\n",
    "    print(f\"Total cost: {total_cost}\")\n"
   ]
  },
  {
   "cell_type": "code",
   "execution_count": 97,
   "id": "39d1e43d",
   "metadata": {},
   "outputs": [
    {
     "name": "stdout",
     "output_type": "stream",
     "text": [
      "Total number of guest: 100\n",
      "Type of event: corporate\n",
      "Cost per person: 75.0\n",
      "--------------------------------\n",
      "Cost of event: 7500.0\n",
      "Sales tax: 600.0\n",
      "--------------------------------\n",
      "Total cost: 8100.0\n"
     ]
    }
   ],
   "source": [
    "event_calculator(num_of_people=100,type = 'corporate', cost = 75.0, tax_rate=0.08)"
   ]
  },
  {
   "cell_type": "markdown",
   "id": "b0c2070f",
   "metadata": {},
   "source": [
    "## 2. Error handling"
   ]
  },
  {
   "cell_type": "markdown",
   "id": "550d35fd",
   "metadata": {},
   "source": [
    "#### a) "
   ]
  },
  {
   "cell_type": "code",
   "execution_count": 98,
   "id": "829bc224",
   "metadata": {},
   "outputs": [],
   "source": [
    "#Add assertions (in any place you find appropriate) that warn a user\n",
    "#when either of these requirements are not fulfilled.\n",
    "def event_calculator(num_of_people, type = 'private', cost = 50.0, tax_rate=0.1):\n",
    "    assert cost>=0, \"cost per person should be non-negative.\"\n",
    "    assert tax_rate>=0 and tax_rate<=0.25, \"the sale tax should be within the range from 0 to 25%.\"\n",
    "    assert type in ('private', 'wedding', 'corporate'), 'only private, wedding and corporate are accepted as type'\n",
    "    \n",
    "    def cost_of_event(num_of_people, type = 'private', cost = 50.0):\n",
    "        if type == 'wedding':\n",
    "            return num_of_people*cost*1.5\n",
    "        if type == 'corporate' or type == 'private':\n",
    "            return num_of_people*cost\n",
    "        else:\n",
    "            return \n",
    "    def sales_tax (net_cost,type = 'private', tax_rate=0.1):\n",
    "        if type == 'wedding' or type == 'private': \n",
    "            if net_cost <= 1000:\n",
    "                tax_rate = 0\n",
    "            return (net_cost - 1000)*tax_rate\n",
    "        if  type == 'corporate':\n",
    "            return net_cost*tax_rate\n",
    "        else:\n",
    "            return\n",
    "        \n",
    "    print(f\"Total number of guest: {num_of_people}\")\n",
    "    print(f\"Type of event: {type}\")\n",
    "    print(f\"Cost per person: {cost}\")\n",
    "    print('--------------------------------')\n",
    "    print(f\"Cost of event: {cost_of_event(num_of_people,type,cost)}\")\n",
    "    net_cost = cost_of_event(num_of_people,type,cost)\n",
    "    print(f\"Sales tax: {sales_tax(net_cost,type, tax_rate)}\")\n",
    "    tax = sales_tax(net_cost,type, tax_rate)\n",
    "    print('--------------------------------')\n",
    "    total_cost = tax+net_cost\n",
    "    print(f\"Total cost: {total_cost}\")"
   ]
  },
  {
   "cell_type": "code",
   "execution_count": 99,
   "id": "a6c87c52",
   "metadata": {},
   "outputs": [
    {
     "ename": "AssertionError",
     "evalue": "only private, wedding and corporate are accepted as type",
     "output_type": "error",
     "traceback": [
      "\u001b[0;31m---------------------------------------------------------------------------\u001b[0m",
      "\u001b[0;31mAssertionError\u001b[0m                            Traceback (most recent call last)",
      "\u001b[0;32m<ipython-input-99-7084b3e4c9a7>\u001b[0m in \u001b[0;36m<module>\u001b[0;34m\u001b[0m\n\u001b[0;32m----> 1\u001b[0;31m \u001b[0mevent_calculator\u001b[0m\u001b[0;34m(\u001b[0m\u001b[0;36m100\u001b[0m\u001b[0;34m,\u001b[0m\u001b[0mtype\u001b[0m \u001b[0;34m=\u001b[0m \u001b[0;34m'bachelor party'\u001b[0m\u001b[0;34m)\u001b[0m\u001b[0;34m\u001b[0m\u001b[0;34m\u001b[0m\u001b[0m\n\u001b[0m",
      "\u001b[0;32m<ipython-input-98-8f5e23676a25>\u001b[0m in \u001b[0;36mevent_calculator\u001b[0;34m(num_of_people, type, cost, tax_rate)\u001b[0m\n\u001b[1;32m      4\u001b[0m     \u001b[0;32massert\u001b[0m \u001b[0mcost\u001b[0m\u001b[0;34m>=\u001b[0m\u001b[0;36m0\u001b[0m\u001b[0;34m,\u001b[0m \u001b[0;34m\"cost per person should be non-negative.\"\u001b[0m\u001b[0;34m\u001b[0m\u001b[0;34m\u001b[0m\u001b[0m\n\u001b[1;32m      5\u001b[0m     \u001b[0;32massert\u001b[0m \u001b[0mtax_rate\u001b[0m\u001b[0;34m>=\u001b[0m\u001b[0;36m0\u001b[0m \u001b[0;32mand\u001b[0m \u001b[0mtax_rate\u001b[0m\u001b[0;34m<=\u001b[0m\u001b[0;36m0.25\u001b[0m\u001b[0;34m,\u001b[0m \u001b[0;34m\"the sale tax should be within the range from 0 to 25%.\"\u001b[0m\u001b[0;34m\u001b[0m\u001b[0;34m\u001b[0m\u001b[0m\n\u001b[0;32m----> 6\u001b[0;31m     \u001b[0;32massert\u001b[0m \u001b[0mtype\u001b[0m \u001b[0;32min\u001b[0m \u001b[0;34m(\u001b[0m\u001b[0;34m'private'\u001b[0m\u001b[0;34m,\u001b[0m \u001b[0;34m'wedding'\u001b[0m\u001b[0;34m,\u001b[0m \u001b[0;34m'corporate'\u001b[0m\u001b[0;34m)\u001b[0m\u001b[0;34m,\u001b[0m \u001b[0;34m'only private, wedding and corporate are accepted as type'\u001b[0m\u001b[0;34m\u001b[0m\u001b[0;34m\u001b[0m\u001b[0m\n\u001b[0m\u001b[1;32m      7\u001b[0m \u001b[0;34m\u001b[0m\u001b[0m\n\u001b[1;32m      8\u001b[0m     \u001b[0;32mdef\u001b[0m \u001b[0mcost_of_event\u001b[0m\u001b[0;34m(\u001b[0m\u001b[0mnum_of_people\u001b[0m\u001b[0;34m,\u001b[0m \u001b[0mtype\u001b[0m \u001b[0;34m=\u001b[0m \u001b[0;34m'private'\u001b[0m\u001b[0;34m,\u001b[0m \u001b[0mcost\u001b[0m \u001b[0;34m=\u001b[0m \u001b[0;36m50.0\u001b[0m\u001b[0;34m)\u001b[0m\u001b[0;34m:\u001b[0m\u001b[0;34m\u001b[0m\u001b[0;34m\u001b[0m\u001b[0m\n",
      "\u001b[0;31mAssertionError\u001b[0m: only private, wedding and corporate are accepted as type"
     ]
    }
   ],
   "source": [
    "event_calculator(100,type = 'bachelor party')"
   ]
  },
  {
   "cell_type": "code",
   "execution_count": 100,
   "id": "27d54256",
   "metadata": {},
   "outputs": [
    {
     "ename": "AssertionError",
     "evalue": "cost per person should be non-negative.",
     "output_type": "error",
     "traceback": [
      "\u001b[0;31m---------------------------------------------------------------------------\u001b[0m",
      "\u001b[0;31mAssertionError\u001b[0m                            Traceback (most recent call last)",
      "\u001b[0;32m<ipython-input-100-525b4f125a56>\u001b[0m in \u001b[0;36m<module>\u001b[0;34m\u001b[0m\n\u001b[0;32m----> 1\u001b[0;31m \u001b[0mevent_calculator\u001b[0m\u001b[0;34m(\u001b[0m\u001b[0;36m100\u001b[0m\u001b[0;34m,\u001b[0m\u001b[0mcost\u001b[0m\u001b[0;34m=\u001b[0m\u001b[0;34m-\u001b[0m\u001b[0;36m10\u001b[0m\u001b[0;34m)\u001b[0m\u001b[0;34m\u001b[0m\u001b[0;34m\u001b[0m\u001b[0m\n\u001b[0m",
      "\u001b[0;32m<ipython-input-98-8f5e23676a25>\u001b[0m in \u001b[0;36mevent_calculator\u001b[0;34m(num_of_people, type, cost, tax_rate)\u001b[0m\n\u001b[1;32m      2\u001b[0m \u001b[0;31m#when either of these requirements are not fulfilled.\u001b[0m\u001b[0;34m\u001b[0m\u001b[0;34m\u001b[0m\u001b[0;34m\u001b[0m\u001b[0m\n\u001b[1;32m      3\u001b[0m \u001b[0;32mdef\u001b[0m \u001b[0mevent_calculator\u001b[0m\u001b[0;34m(\u001b[0m\u001b[0mnum_of_people\u001b[0m\u001b[0;34m,\u001b[0m \u001b[0mtype\u001b[0m \u001b[0;34m=\u001b[0m \u001b[0;34m'private'\u001b[0m\u001b[0;34m,\u001b[0m \u001b[0mcost\u001b[0m \u001b[0;34m=\u001b[0m \u001b[0;36m50.0\u001b[0m\u001b[0;34m,\u001b[0m \u001b[0mtax_rate\u001b[0m\u001b[0;34m=\u001b[0m\u001b[0;36m0.1\u001b[0m\u001b[0;34m)\u001b[0m\u001b[0;34m:\u001b[0m\u001b[0;34m\u001b[0m\u001b[0;34m\u001b[0m\u001b[0m\n\u001b[0;32m----> 4\u001b[0;31m     \u001b[0;32massert\u001b[0m \u001b[0mcost\u001b[0m\u001b[0;34m>=\u001b[0m\u001b[0;36m0\u001b[0m\u001b[0;34m,\u001b[0m \u001b[0;34m\"cost per person should be non-negative.\"\u001b[0m\u001b[0;34m\u001b[0m\u001b[0;34m\u001b[0m\u001b[0m\n\u001b[0m\u001b[1;32m      5\u001b[0m     \u001b[0;32massert\u001b[0m \u001b[0mtax_rate\u001b[0m\u001b[0;34m>=\u001b[0m\u001b[0;36m0\u001b[0m \u001b[0;32mand\u001b[0m \u001b[0mtax_rate\u001b[0m\u001b[0;34m<=\u001b[0m\u001b[0;36m0.25\u001b[0m\u001b[0;34m,\u001b[0m \u001b[0;34m\"the sale tax should be within the range from 0 to 25%.\"\u001b[0m\u001b[0;34m\u001b[0m\u001b[0;34m\u001b[0m\u001b[0m\n\u001b[1;32m      6\u001b[0m     \u001b[0;32massert\u001b[0m \u001b[0mtype\u001b[0m \u001b[0;32min\u001b[0m \u001b[0;34m(\u001b[0m\u001b[0;34m'private'\u001b[0m\u001b[0;34m,\u001b[0m \u001b[0;34m'wedding'\u001b[0m\u001b[0;34m,\u001b[0m \u001b[0;34m'corporate'\u001b[0m\u001b[0;34m)\u001b[0m\u001b[0;34m,\u001b[0m \u001b[0;34m'only private, wedding and corporate are accepted as type'\u001b[0m\u001b[0;34m\u001b[0m\u001b[0;34m\u001b[0m\u001b[0m\n",
      "\u001b[0;31mAssertionError\u001b[0m: cost per person should be non-negative."
     ]
    }
   ],
   "source": [
    "event_calculator(100,cost=-10)"
   ]
  },
  {
   "cell_type": "markdown",
   "id": "ea52afdc",
   "metadata": {},
   "source": [
    "#### b) "
   ]
  },
  {
   "cell_type": "code",
   "execution_count": 101,
   "id": "74b3f5ab",
   "metadata": {},
   "outputs": [],
   "source": [
    "#Add assertions (in any place you find appropriate) that warn a user\n",
    "#when either of these requirements are not fulfilled.\n",
    "def event_calculator(num_of_people, type = 'private', cost = 50.0, tax_rate=0.1):   \n",
    "    try:\n",
    "        if cost<0:\n",
    "            raise OutofRangeError\n",
    "        if tax_rate<0 or tax_rate>0.25:\n",
    "            raise OutofRangeError\n",
    "        if type not in ('private', 'wedding', 'corporate'):\n",
    "            raise OutofRangeError\n",
    "            \n",
    "        def cost_of_event(num_of_people, type = 'private', cost = 50.0):\n",
    "            if type == 'wedding':\n",
    "                return num_of_people*cost*1.5\n",
    "            if type == 'corporate' or type == 'private':\n",
    "                        return num_of_people*cost\n",
    "        def sales_tax (net_cost,type = 'private', tax_rate=0.1):\n",
    "            if type == 'wedding' or type == 'private': \n",
    "                if net_cost <= 1000:\n",
    "                    tax_rate = 0\n",
    "                return (net_cost - 1000)*tax_rate\n",
    "            if  type == 'corporate':\n",
    "                return net_cost*tax_rate  \n",
    "                    \n",
    "        print(f\"Total number of guest: {num_of_people}\")\n",
    "        print(f\"Type of event: {type}\")\n",
    "        print(f\"Cost per person: {cost}\")\n",
    "        print('--------------------------------')\n",
    "        net_cost = cost_of_event(num_of_people,type,cost)        \n",
    "        print(f\"Cost of event: {cost_of_event(num_of_people,type,cost)}\")\n",
    "        tax = sales_tax(net_cost,type, tax_rate)\n",
    "        print(f\"Sales tax: {sales_tax(net_cost,type, tax_rate)}\")\n",
    "        print('--------------------------------')\n",
    "        total_cost = tax+net_cost\n",
    "        print(f\"Total cost: {total_cost}\")\n",
    "            \n",
    "        \n",
    "    except Exception:\n",
    "        print(f'Please check your input values.')"
   ]
  },
  {
   "cell_type": "code",
   "execution_count": 102,
   "id": "c9cfd692",
   "metadata": {},
   "outputs": [
    {
     "name": "stdout",
     "output_type": "stream",
     "text": [
      "Please check your input values.\n"
     ]
    }
   ],
   "source": [
    "event_calculator(100,tax_rate = -1)"
   ]
  },
  {
   "cell_type": "markdown",
   "id": "82f85bc1",
   "metadata": {},
   "source": [
    "## 3. Multiple events"
   ]
  },
  {
   "cell_type": "code",
   "execution_count": 85,
   "id": "b216c4d9",
   "metadata": {},
   "outputs": [],
   "source": [
    "import pandas as pd"
   ]
  },
  {
   "cell_type": "code",
   "execution_count": 103,
   "id": "8af3831d",
   "metadata": {},
   "outputs": [
    {
     "data": {
      "text/html": [
       "<div>\n",
       "<style scoped>\n",
       "    .dataframe tbody tr th:only-of-type {\n",
       "        vertical-align: middle;\n",
       "    }\n",
       "\n",
       "    .dataframe tbody tr th {\n",
       "        vertical-align: top;\n",
       "    }\n",
       "\n",
       "    .dataframe thead th {\n",
       "        text-align: right;\n",
       "    }\n",
       "</style>\n",
       "<table border=\"1\" class=\"dataframe\">\n",
       "  <thead>\n",
       "    <tr style=\"text-align: right;\">\n",
       "      <th></th>\n",
       "      <th>num_of_people</th>\n",
       "      <th>type</th>\n",
       "      <th>cost</th>\n",
       "      <th>sales_tax_rate</th>\n",
       "      <th>total_cost</th>\n",
       "    </tr>\n",
       "  </thead>\n",
       "  <tbody>\n",
       "    <tr>\n",
       "      <th>0</th>\n",
       "      <td>200</td>\n",
       "      <td>private</td>\n",
       "      <td>55</td>\n",
       "      <td>10</td>\n",
       "      <td>12100</td>\n",
       "    </tr>\n",
       "    <tr>\n",
       "      <th>1</th>\n",
       "      <td>150</td>\n",
       "      <td>wedding</td>\n",
       "      <td>280</td>\n",
       "      <td>10</td>\n",
       "      <td>69300</td>\n",
       "    </tr>\n",
       "    <tr>\n",
       "      <th>2</th>\n",
       "      <td>20</td>\n",
       "      <td>corporate</td>\n",
       "      <td>80</td>\n",
       "      <td>15</td>\n",
       "      <td>1840</td>\n",
       "    </tr>\n",
       "    <tr>\n",
       "      <th>3</th>\n",
       "      <td>8</td>\n",
       "      <td>private</td>\n",
       "      <td>100</td>\n",
       "      <td>10</td>\n",
       "      <td>880</td>\n",
       "    </tr>\n",
       "  </tbody>\n",
       "</table>\n",
       "</div>"
      ],
      "text/plain": [
       "   num_of_people       type  cost  sales_tax_rate  total_cost\n",
       "0            200    private    55              10       12100\n",
       "1            150    wedding   280              10       69300\n",
       "2             20  corporate    80              15        1840\n",
       "3              8    private   100              10         880"
      ]
     },
     "execution_count": 103,
     "metadata": {},
     "output_type": "execute_result"
    }
   ],
   "source": [
    "data = [(200, 'private', 55, 10, 12100), \n",
    "        (150, 'wedding', 280, 10, 69300), \n",
    "        (20, 'corporate', 80, 15, 1840), \n",
    "        (8, 'private', 100, 10, 880)]\n",
    "df = pd.DataFrame.from_records(data, columns=['num_of_people', 'type', 'cost', \n",
    "                                         'sales_tax_rate', 'total_cost'])\n",
    "df\n"
   ]
  },
  {
   "cell_type": "code",
   "execution_count": 104,
   "id": "487fcab2",
   "metadata": {},
   "outputs": [
    {
     "name": "stdout",
     "output_type": "stream",
     "text": [
      "Total number of guest: 200\n",
      "Type of event: private\n",
      "Cost per person: 55\n",
      "--------------------------------\n",
      "Cost of event: 11000\n",
      "Sales tax: 1000.0\n",
      "--------------------------------\n",
      "Total cost: 12000.0\n",
      "\n",
      "\n",
      "Total number of guest: 150\n",
      "Type of event: wedding\n",
      "Cost per person: 280\n",
      "--------------------------------\n",
      "Cost of event: 63000.0\n",
      "Sales tax: 6200.0\n",
      "--------------------------------\n",
      "Total cost: 69200.0\n",
      "\n",
      "\n",
      "Total number of guest: 20\n",
      "Type of event: corporate\n",
      "Cost per person: 80\n",
      "--------------------------------\n",
      "Cost of event: 1600\n",
      "Sales tax: 240.0\n",
      "--------------------------------\n",
      "Total cost: 1840.0\n",
      "\n",
      "\n",
      "Total number of guest: 8\n",
      "Type of event: private\n",
      "Cost per person: 100\n",
      "--------------------------------\n",
      "Cost of event: 800\n",
      "Sales tax: 0\n",
      "--------------------------------\n",
      "Total cost: 800\n",
      "\n",
      "\n"
     ]
    }
   ],
   "source": [
    "for ind in df.index:\n",
    "    event_calculator(df['num_of_people'][ind],df['type'][ind],df['cost'][ind],df['sales_tax_rate'][ind]*0.01)\n",
    "    print('\\n')"
   ]
  },
  {
   "cell_type": "code",
   "execution_count": null,
   "id": "827ffa58",
   "metadata": {},
   "outputs": [],
   "source": []
  }
 ],
 "metadata": {
  "kernelspec": {
   "display_name": "Python 3",
   "language": "python",
   "name": "python3"
  },
  "language_info": {
   "codemirror_mode": {
    "name": "ipython",
    "version": 3
   },
   "file_extension": ".py",
   "mimetype": "text/x-python",
   "name": "python",
   "nbconvert_exporter": "python",
   "pygments_lexer": "ipython3",
   "version": "3.9.0"
  }
 },
 "nbformat": 4,
 "nbformat_minor": 5
}
