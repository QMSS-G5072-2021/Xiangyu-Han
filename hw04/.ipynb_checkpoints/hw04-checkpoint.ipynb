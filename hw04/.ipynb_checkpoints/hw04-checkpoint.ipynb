{
 "cells": [
  {
   "cell_type": "markdown",
   "id": "01c25f62",
   "metadata": {},
   "source": [
    "## 1. Recipe class"
   ]
  },
  {
   "cell_type": "markdown",
   "id": "b5d852e9",
   "metadata": {},
   "source": [
    "### a) Create Recipe class"
   ]
  },
  {
   "cell_type": "code",
   "execution_count": 1,
   "id": "94619274",
   "metadata": {},
   "outputs": [],
   "source": [
    "class Recipe():\n",
    "    def __init__(self, name, ingredients, meal, time):\n",
    "        self.n = name\n",
    "        self.ingre = ingredients\n",
    "        self.m = meal\n",
    "        self.t = time"
   ]
  },
  {
   "cell_type": "markdown",
   "id": "5f189948",
   "metadata": {},
   "source": [
    "### b) Add method and recipes"
   ]
  },
  {
   "cell_type": "code",
   "execution_count": 2,
   "id": "a27f7e65",
   "metadata": {},
   "outputs": [],
   "source": [
    "#Add a method to Recipe that prints the name of the recipe, the time it takes to prepare, and the type of meal.\n",
    "class Recipe():\n",
    "    def __init__(self, name, ingredients, meal, time):\n",
    "        self.n = name\n",
    "        self.ingre = ingredients\n",
    "        self.m = meal\n",
    "        self.t = time\n",
    "    def __str__(self):\n",
    "        return \"The name of the recipe is \" + self.n + \", it takes \" + self.t + \" to prepare,\" + \"the type of the meal is \" + self.m + \".\""
   ]
  },
  {
   "cell_type": "code",
   "execution_count": 3,
   "id": "e1cd22b7",
   "metadata": {},
   "outputs": [],
   "source": [
    "#Initialize five recipes of your choice, two for dinner and three for dessert \n",
    "#(these can be simple and don't need to be real recipes). Print the initialized objects.\n",
    "r1 = Recipe('coke wings', {'coke':100, 'wings':100},'dessert','30 mins')\n",
    "r2 = Recipe('chicken salad', {'chicken':100, 'vegetables':100},'dessert','30 mins')\n",
    "r3 = Recipe('grilled ribs', {'ribs':100},'diner','30 mins')\n",
    "r4 = Recipe('oak soup', {'oak':100, 'water':100},'dessert','30 mins')\n",
    "r5 = Recipe('pho', {'vegetable':100, 'pho noodle':100},'diner','30 mins')"
   ]
  },
  {
   "cell_type": "code",
   "execution_count": 4,
   "id": "8dfabdf8",
   "metadata": {},
   "outputs": [
    {
     "name": "stdout",
     "output_type": "stream",
     "text": [
      "The name of the recipe is coke wings, it takes 30 mins to prepare,the type of the meal is dessert.\n",
      "The name of the recipe is chicken salad, it takes 30 mins to prepare,the type of the meal is dessert.\n",
      "The name of the recipe is grilled ribs, it takes 30 mins to prepare,the type of the meal is diner.\n",
      "The name of the recipe is oak soup, it takes 30 mins to prepare,the type of the meal is dessert.\n",
      "The name of the recipe is pho, it takes 30 mins to prepare,the type of the meal is diner.\n"
     ]
    }
   ],
   "source": [
    "recipes = [r1,r2,r3,r4,r5]\n",
    "for r in recipes:\n",
    "    print(r)"
   ]
  },
  {
   "cell_type": "markdown",
   "id": "47f501cf",
   "metadata": {},
   "source": [
    "### c) Total weight"
   ]
  },
  {
   "cell_type": "code",
   "execution_count": 6,
   "id": "7cbf9622",
   "metadata": {},
   "outputs": [],
   "source": [
    "#Add a method that provides the total weight of all ingredients combined. \n",
    "class Recipe():\n",
    "    def __init__(self, name, ingredients, meal, time):\n",
    "        self.n = name\n",
    "        self.ingre = ingredients\n",
    "        self.ingre_weight = ingredients.values()\n",
    "        self.m = meal\n",
    "        self.t = time\n",
    "    def __str__(self):\n",
    "        return \"The name of the recipe is \" + self.n + \", it takes \" + self.t + \" to prepare,\" + \"the type of the meal is \" + self.m + \".\"\n",
    "    def totalweight(self):\n",
    "        return sum(self.ingre_weight)"
   ]
  },
  {
   "cell_type": "code",
   "execution_count": 11,
   "id": "5874b886",
   "metadata": {},
   "outputs": [
    {
     "data": {
      "text/plain": [
       "['coke', 'wings']"
      ]
     },
     "execution_count": 11,
     "metadata": {},
     "output_type": "execute_result"
    }
   ],
   "source": [
    "#Call that method for one specific recipe.\n",
    "r1 = Recipe('coke wings', {'coke':100, 'wings':100},'dessert','30 mins')\n",
    "r1.totalweight()"
   ]
  },
  {
   "cell_type": "markdown",
   "id": "8c24b2bd",
   "metadata": {},
   "source": [
    "## 2. Organizing recipes in a Cookbook\n"
   ]
  },
  {
   "cell_type": "markdown",
   "id": "1608fc4e",
   "metadata": {},
   "source": [
    "### a) Create Cookbook class\n",
    "\n"
   ]
  },
  {
   "cell_type": "code",
   "execution_count": 36,
   "id": "c6354745",
   "metadata": {},
   "outputs": [],
   "source": [
    "#Now create a Cookbook class that will contain a list of Recipe objects.\n",
    "class Cookbook():\n",
    "    def __init__(self):\n",
    "        self.rList = []\n",
    "    def add(self, recipe):\n",
    "        self.rList.append(recipe)"
   ]
  },
  {
   "cell_type": "markdown",
   "id": "89c33843",
   "metadata": {},
   "source": [
    "### b) Meal type method"
   ]
  },
  {
   "cell_type": "code",
   "execution_count": 12,
   "id": "0d61767d",
   "metadata": {},
   "outputs": [],
   "source": [
    "#Create a get_meal_type() method which has a meal_type parameter \n",
    "#and returns a list of all recipes fitting the specified meal type.\n",
    "class Recipe():\n",
    "    def __init__(self, name, ingredients, meal, time):\n",
    "        self.n = name\n",
    "        self.ingre = ingredients\n",
    "        self.ingre_weight = ingredients.values()\n",
    "        self.m = meal\n",
    "        self.t = time\n",
    "    def __str__(self):\n",
    "        return \"The name of the recipe is \" + self.n + \", it takes \" + self.t + \" to prepare,\" + \"the type of the meal is \" + self.m + \".\"\n",
    "    def totalweight(self):\n",
    "        return sum(self.ingre_weight)\n",
    "\n",
    "class Cookbook():\n",
    "    def __init__(self):\n",
    "        self.rList = []\n",
    "        \n",
    "    def add(self, recipe):\n",
    "        self.rList.append(recipe)\n",
    "        \n",
    "    def get_meal_type(self,meal_type):\n",
    "        self.mealtypeList = []\n",
    "        for recipe in self.rList:\n",
    "            if recipe.m == meal_type:\n",
    "                self.mealtypeList.append(recipe.n)\n",
    "        return self.mealtypeList\n",
    "            \n",
    "    def __str__(self):\n",
    "        temp = \"\"\n",
    "        for recipe in self.rList:\n",
    "            temp = temp + str(recipe) + \"\\n\"\n",
    "        return temp"
   ]
  },
  {
   "cell_type": "markdown",
   "id": "71a43e98",
   "metadata": {},
   "source": [
    "### c) Make a cookbook"
   ]
  },
  {
   "cell_type": "code",
   "execution_count": 13,
   "id": "e8085d8c",
   "metadata": {},
   "outputs": [],
   "source": [
    "#Add the five recipes from above to the Cookbook.\n",
    "r1 = Recipe('coke wings', {'coke':100, 'wings':100},'dessert','30 mins')\n",
    "r2 = Recipe('chicken salad', {'chicken':100, 'vegetables':100},'dessert','30 mins')\n",
    "r3 = Recipe('grilled ribs', {'ribs':100},'diner','30 mins')\n",
    "r4 = Recipe('oak soup', {'oak':100, 'water':100},'dessert','30 mins')\n",
    "r5 = Recipe('pho', {'vegetable':100, 'pho noodle':100},'diner','30 mins')\n",
    "\n",
    "grandma_cookbook = Cookbook()\n",
    "recipes = [r1,r2,r3,r4,r5]\n",
    "for r in recipes:\n",
    "    grandma_cookbook.add(r)"
   ]
  },
  {
   "cell_type": "code",
   "execution_count": 14,
   "id": "2ad26821",
   "metadata": {},
   "outputs": [
    {
     "name": "stdout",
     "output_type": "stream",
     "text": [
      "coke wings\n",
      "chicken salad\n",
      "oak soup\n"
     ]
    }
   ],
   "source": [
    "#Using the method from (b) print the names of all dessert recipes.\n",
    "for n in grandma_cookbook.get_meal_type('dessert'):\n",
    "    print(n)"
   ]
  },
  {
   "cell_type": "markdown",
   "id": "8a3feb39",
   "metadata": {},
   "source": [
    "### d) Ingredient at home"
   ]
  },
  {
   "cell_type": "code",
   "execution_count": 26,
   "id": "b32ea6b8",
   "metadata": {},
   "outputs": [],
   "source": [
    "#Add a method that takes in a list (or set) of available_ingredients and a boolean match_all. \n",
    "#The boolean indicates whether all available ingredients (match_all = True) or any ingredient (match_all = False) \n",
    "#need to be contained in the result list. \n",
    "\n",
    "class Cookbook():\n",
    "    def __init__(self):\n",
    "        self.rList = []\n",
    "        \n",
    "    def add(self, recipe):\n",
    "        self.rList.append(recipe)\n",
    "        \n",
    "    def get_meal_type(self,meal_type):\n",
    "        self.mealtypeList = []\n",
    "        for recipe in self.rList:\n",
    "            if recipe.m == meal_type:\n",
    "                self.mealtypeList.append(recipe.n)\n",
    "        return self.mealtypeList\n",
    "    \n",
    "    def check_ingredient(self,available_ingredients:list,match_all:bool):\n",
    "        results = []       \n",
    "\n",
    "        if match_all == True:\n",
    "            for recipe in self.rList:\n",
    "                available_ingredients = set(available_ingredients)\n",
    "                list1 = set(list(recipe.ingre.keys()))\n",
    "                if list1.issubset(available_ingredients):\n",
    "                    results.append(recipe.n)\n",
    "        if match_all == False:\n",
    "            for recipe in self.rList:\n",
    "                for i in list(recipe.ingre.keys()):\n",
    "                    if i in available_ingredients:\n",
    "                        results.append(recipe.n)\n",
    "            results = set(results)\n",
    "        return results"
   ]
  },
  {
   "cell_type": "code",
   "execution_count": 27,
   "id": "14fbdb39",
   "metadata": {},
   "outputs": [
    {
     "name": "stdout",
     "output_type": "stream",
     "text": [
      "[]\n",
      "['oak soup']\n",
      "{'oak soup', 'coke wings'}\n"
     ]
    }
   ],
   "source": [
    "#Call the method twice to show how the boolean match_all affects your results.\n",
    "\n",
    "#Add the five recipes from above to the Cookbook.\n",
    "r1 = Recipe('coke wings', {'coke':100, 'wings':100, 'water':100},'dessert','30 mins')\n",
    "r2 = Recipe('chicken salad', {'chicken':100, 'vegetables':100},'dessert','30 mins')\n",
    "r3 = Recipe('grilled ribs', {'ribs':100},'diner','30 mins')\n",
    "r4 = Recipe('oak soup', {'oak':100, 'water':100},'dessert','30 mins')\n",
    "r5 = Recipe('pho', {'vegetable':100, 'pho noodle':100},'diner','30 mins')\n",
    "\n",
    "grandma_cookbook = Cookbook()\n",
    "recipes = [r1,r2,r3,r4,r5]\n",
    "for r in recipes:\n",
    "    grandma_cookbook.add(r)\n",
    "\n",
    "print(grandma_cookbook.check_ingredient(['water'],True))\n",
    "print(grandma_cookbook.check_ingredient(['water','oak'],True))\n",
    "print(grandma_cookbook.check_ingredient(['water'],False))"
   ]
  }
 ],
 "metadata": {
  "kernelspec": {
   "display_name": "Python 3",
   "language": "python",
   "name": "python3"
  },
  "language_info": {
   "codemirror_mode": {
    "name": "ipython",
    "version": 3
   },
   "file_extension": ".py",
   "mimetype": "text/x-python",
   "name": "python",
   "nbconvert_exporter": "python",
   "pygments_lexer": "ipython3",
   "version": "3.9.0"
  }
 },
 "nbformat": 4,
 "nbformat_minor": 5
}
