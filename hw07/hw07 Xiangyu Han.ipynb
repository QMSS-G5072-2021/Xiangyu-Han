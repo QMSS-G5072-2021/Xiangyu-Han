{
 "cells": [
  {
   "cell_type": "markdown",
   "id": "f7356ead",
   "metadata": {},
   "source": [
    "##### provide a link to your TestPyPi package and the repo of your package"
   ]
  },
  {
   "cell_type": "markdown",
   "id": "efef2ef0",
   "metadata": {},
   "source": [
    "link to my TestPyPi package: https://test.pypi.org/manage/project/cipher-xh2503/releases/"
   ]
  },
  {
   "cell_type": "markdown",
   "id": "0561b6b2",
   "metadata": {},
   "source": [
    "repo of my package: https://github.com/QMSS-G5072-2021/cipher_Han_Xiangyu/tree/main/cipher_xh2503"
   ]
  },
  {
   "cell_type": "markdown",
   "id": "74ecb41e",
   "metadata": {},
   "source": [
    "##### directly install your package from TestPyPi (using !pip ...)"
   ]
  },
  {
   "cell_type": "code",
   "execution_count": 16,
   "id": "fe6cb709",
   "metadata": {},
   "outputs": [
    {
     "name": "stdout",
     "output_type": "stream",
     "text": [
      "Looking in indexes: https://test.pypi.org/simple/, https://pypi.org/simple\n",
      "Requirement already satisfied: cipher-xh2503 in /Users/humphreyhan/Library/Caches/pypoetry/virtualenvs/mds-G2ZMO4Sf-py3.9/lib/python3.9/site-packages (0.2.0)\n",
      "Requirement already satisfied: pandas<2.0.0,>=1.3.4 in /Users/humphreyhan/Library/Caches/pypoetry/virtualenvs/mds-G2ZMO4Sf-py3.9/lib/python3.9/site-packages (from cipher-xh2503) (1.3.4)\n",
      "Requirement already satisfied: numpy>=1.17.3 in /Users/humphreyhan/Library/Caches/pypoetry/virtualenvs/mds-G2ZMO4Sf-py3.9/lib/python3.9/site-packages (from pandas<2.0.0,>=1.3.4->cipher-xh2503) (1.18.0)\n",
      "Requirement already satisfied: pytz>=2017.3 in /Users/humphreyhan/Library/Caches/pypoetry/virtualenvs/mds-G2ZMO4Sf-py3.9/lib/python3.9/site-packages (from pandas<2.0.0,>=1.3.4->cipher-xh2503) (2021.1)\n",
      "Requirement already satisfied: python-dateutil>=2.7.3 in /Users/humphreyhan/Library/Caches/pypoetry/virtualenvs/mds-G2ZMO4Sf-py3.9/lib/python3.9/site-packages (from pandas<2.0.0,>=1.3.4->cipher-xh2503) (2.8.2)\n",
      "Requirement already satisfied: six>=1.5 in /Users/humphreyhan/Library/Caches/pypoetry/virtualenvs/mds-G2ZMO4Sf-py3.9/lib/python3.9/site-packages (from python-dateutil>=2.7.3->pandas<2.0.0,>=1.3.4->cipher-xh2503) (1.16.0)\n"
     ]
    }
   ],
   "source": [
    "!pip install --index-url https://test.pypi.org/simple/ --extra-index-url https://pypi.org/simple cipher-xh2503"
   ]
  },
  {
   "cell_type": "markdown",
   "id": "1811c440",
   "metadata": {},
   "source": [
    "##### import your package"
   ]
  },
  {
   "cell_type": "code",
   "execution_count": 10,
   "id": "008877e1",
   "metadata": {},
   "outputs": [],
   "source": [
    "from cipher_xh2503 import cipher_xh2503"
   ]
  },
  {
   "cell_type": "markdown",
   "id": "799e5258",
   "metadata": {},
   "source": [
    "###### run the cipher function for an example"
   ]
  },
  {
   "cell_type": "code",
   "execution_count": 17,
   "id": "5be60cb9",
   "metadata": {},
   "outputs": [
    {
     "data": {
      "text/plain": [
       "\"D'ftu mb wjf.\""
      ]
     },
     "execution_count": 17,
     "metadata": {},
     "output_type": "execute_result"
    }
   ],
   "source": [
    "text = \"C'est la vie.\"\n",
    "shift = 1\n",
    "cipher_xh2503.cipher(text, shift)"
   ]
  },
  {
   "cell_type": "markdown",
   "id": "44653d03",
   "metadata": {},
   "source": [
    "##### show the output of help(<yourpackage>) and help(<yourpackage>.cipher)"
   ]
  },
  {
   "cell_type": "code",
   "execution_count": 18,
   "id": "aecfb8f4",
   "metadata": {
    "scrolled": true
   },
   "outputs": [
    {
     "name": "stdout",
     "output_type": "stream",
     "text": [
      "Help on module cipher_xh2503.cipher_xh2503 in cipher_xh2503:\n",
      "\n",
      "NAME\n",
      "    cipher_xh2503.cipher_xh2503\n",
      "\n",
      "FUNCTIONS\n",
      "    cipher(text, shift, encrypt=True)\n",
      "        Encipher the information.\n",
      "        \n",
      "        Each letter is replaced by a letter some fixed number of positions down the \n",
      "        alphabet\n",
      "        \n",
      "        Parameters\n",
      "        ----------\n",
      "        text : a sequence of string.\n",
      "        shift : integer.\n",
      "        encrypt : boolean.\n",
      "        \n",
      "        Returns\n",
      "        -------\n",
      "        String\n",
      "        \n",
      "        Examples\n",
      "        --------\n",
      "        >>> from cipher_xh2503 import cipher_xh2503\n",
      "        >>> text = \"C'est la vie.\"\n",
      "        >>> shift = 1\n",
      "        >>> cipher_xh2503.cipher(a, b)\n",
      "        \"D'ftu mb wjf.\"\n",
      "\n",
      "FILE\n",
      "    /Users/humphreyhan/Library/Caches/pypoetry/virtualenvs/mds-G2ZMO4Sf-py3.9/lib/python3.9/site-packages/cipher_xh2503/cipher_xh2503.py\n",
      "\n",
      "\n"
     ]
    }
   ],
   "source": [
    "help(cipher_xh2503)"
   ]
  },
  {
   "cell_type": "code",
   "execution_count": 14,
   "id": "19e71725",
   "metadata": {
    "scrolled": true
   },
   "outputs": [
    {
     "name": "stdout",
     "output_type": "stream",
     "text": [
      "Help on function cipher in module cipher_xh2503.cipher_xh2503:\n",
      "\n",
      "cipher(text, shift, encrypt=True)\n",
      "    Encipher the information.\n",
      "    \n",
      "    Each letter is replaced by a letter some fixed number of positions down the \n",
      "    alphabet\n",
      "    \n",
      "    Parameters\n",
      "    ----------\n",
      "    text : a sequence of string.\n",
      "    shift : integer.\n",
      "    encrypt : boolean.\n",
      "    \n",
      "    Returns\n",
      "    -------\n",
      "    String\n",
      "    \n",
      "    Examples\n",
      "    --------\n",
      "    >>> from cipher_xh2503 import cipher_xh2503\n",
      "    >>> text = \"C'est la vie.\"\n",
      "    >>> shift = 1\n",
      "    >>> cipher_xh2503.cipher(a, b)\n",
      "    \"D'ftu mb wjf.\"\n",
      "\n"
     ]
    }
   ],
   "source": [
    "help(cipher_xh2503.cipher)"
   ]
  }
 ],
 "metadata": {
  "kernelspec": {
   "display_name": "Python 3",
   "language": "python",
   "name": "python3"
  },
  "language_info": {
   "codemirror_mode": {
    "name": "ipython",
    "version": 3
   },
   "file_extension": ".py",
   "mimetype": "text/x-python",
   "name": "python",
   "nbconvert_exporter": "python",
   "pygments_lexer": "ipython3",
   "version": "3.9.0"
  }
 },
 "nbformat": 4,
 "nbformat_minor": 5
}
